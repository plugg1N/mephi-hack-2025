{
 "cells": [
  {
   "cell_type": "markdown",
   "id": "1711a7f7",
   "metadata": {},
   "source": [
    "# След космического луча | Хакатон Nuclear IT Hack МИФИ"
   ]
  },
  {
   "cell_type": "markdown",
   "id": "98cf3c69",
   "metadata": {},
   "source": [
    "## Пайплайн"
   ]
  },
  {
   "cell_type": "code",
   "execution_count": 57,
   "id": "ed3eefc3",
   "metadata": {},
   "outputs": [],
   "source": [
    "import catboost\n",
    "import pandas as pd\n",
    "\n",
    "from sklearn.model_selection import train_test_split\n",
    "\n",
    "import numpy as np\n",
    "\n",
    "from sklearn.metrics import mean_absolute_error, r2_score"
   ]
  },
  {
   "cell_type": "code",
   "execution_count": null,
   "id": "2fde8ac4",
   "metadata": {},
   "outputs": [],
   "source": [
    "def read_binarry(file_path):\n",
    "    import struct\n",
    "    import math\n",
    "\n",
    "    # Информация о первичной частице\n",
    "    PART0 = []\n",
    "    E0 = []\n",
    "\n",
    "    # Целевые переменные\n",
    "    angle_tetta = []\n",
    "    angle_phi = []\n",
    "    coordinate_x = []\n",
    "    coordinate_y = []\n",
    "    power = []\n",
    "    age = []\n",
    "\n",
    "    # Количество различных вторичных частиц\n",
    "    NGAM = []\n",
    "    NEL = []\n",
    "    NHADR = []\n",
    "    NMU = []\n",
    "\n",
    "    # Нижний/верхний. Энерговыделение в счетчиках СКТ\n",
    "    EdepCntSCT = []\n",
    "\n",
    "    # Энерговыделение на \n",
    "    energy = []\n",
    "\n",
    "    with open(file_path, 'rb') as binary_file:\n",
    "        for _ in range(100000):\n",
    "            binary_file.read(4 * 3)\n",
    "\n",
    "            p = struct.unpack('f', binary_file.read(4))[0]\n",
    "            PART0.append(p)\n",
    "\n",
    "            E = struct.unpack('f', binary_file.read(4))[0]\n",
    "            E0.append(E)\n",
    "\n",
    "            tetta = struct.unpack('f', binary_file.read(4))[0]\n",
    "            angle_tetta.append(tetta)\n",
    "\n",
    "            phi = struct.unpack('f', binary_file.read(4))[0]\n",
    "            angle_phi.append(phi)\n",
    "\n",
    "            x0 = struct.unpack('f', binary_file.read(4))[0]\n",
    "            coordinate_x.append(x0)\n",
    "\n",
    "            y0 = struct.unpack('f', binary_file.read(4))[0]\n",
    "            coordinate_y.append(y0)\n",
    "\n",
    "            binary_file.read(4 * 1)\n",
    "\n",
    "            NGAM.append(struct.unpack('f', binary_file.read(4))[0])\n",
    "            NEL.append(struct.unpack('f', binary_file.read(4))[0])\n",
    "            NHADR.append(struct.unpack('f', binary_file.read(4))[0])\n",
    "            NMU.append(struct.unpack('f', binary_file.read(4))[0])\n",
    "\n",
    "            power_eas = struct.unpack('f', binary_file.read(4))[0]\n",
    "            power.append(math.log10(power_eas))\n",
    "\n",
    "            age_eas = struct.unpack('f', binary_file.read(4))[0]\n",
    "            age.append(age_eas)\n",
    "\n",
    "            binary_file.read(4 * 845)\n",
    "\n",
    "            EdepCntSCT.append(struct.unpack('f' * 2, binary_file.read(4 * 2)))\n",
    "\n",
    "            binary_file.read(4 * 718)\n",
    "\n",
    "            energy_release = struct.unpack('f' * 36, binary_file.read(4 * 36))\n",
    "            energy.append(energy_release)\n",
    "\n",
    "            binary_file.read(4)\n",
    "            t = struct.unpack('f' * 144, binary_file.read(4 * 144))\n",
    "            threshold_time = t[::4]\n",
    "\n",
    "    df = pd.DataFrame({\n",
    "        'part0': PART0,\n",
    "        'E0': E0,\n",
    "        'power': power,\n",
    "        'age': age,\n",
    "        'x': coordinate_x,\n",
    "        'y': coordinate_y,\n",
    "        'NGAM' : NGAM,\n",
    "        'NEL' : NEL,\n",
    "        'NHADR' : NHADR,\n",
    "        'NMU' : NMU,\n",
    "        'tetta': angle_tetta,\n",
    "        'edep': EdepCntSCT,\n",
    "        'phi': angle_phi,\n",
    "        'energy': energy,\n",
    "    })\n",
    "\n",
    "    return df"
   ]
  },
  {
   "cell_type": "code",
   "execution_count": null,
   "id": "3e6abecb",
   "metadata": {},
   "outputs": [],
   "source": [
    "data = read_binarry('spe27p_100k_2022_correct.dat')\n",
    "\n",
    "# Рассредоточение кортежа информации на отельные факторы\n",
    "data[[f'x{i+1}' for i in range(36)]] = pd.DataFrame(data['energy'].tolist(), index=data.index) # для энергии\n",
    "data[[f'y{i+1}' for i in range(2)]] = pd.DataFrame(data['edep'].tolist(), index=data.index)    # для энерговыделение в счетчиках СКТ\n",
    "\n",
    "# Синус азимута\n",
    "data['phi_sin'] = np.sin(np.deg2rad(data['phi']))\n",
    "\n",
    "# Сумма всех вторичных частиц\n",
    "data['secondary_particles_amount'] = data['NEL'] + data['NGAM'] + data['NMU']\n",
    "\n",
    "# Данные о кортеже энергии\n",
    "data['max_energy'] =  data['energy'].apply(max)\n",
    "data['sum_energy'] =  data['energy'].apply(sum)\n",
    "data['mean_energy'] = data['energy'].apply(lambda x: np.mean(x))\n",
    "\n",
    "data.drop(columns=['phi'], inplace=True)\n",
    "\n",
    "energy = data['energy'].values.tolist()\n",
    "data.drop(columns=['energy'], inplace=True)\n",
    "data.drop(columns=['edep'], inplace=True)"
   ]
  },
  {
   "cell_type": "code",
   "execution_count": 180,
   "id": "d94b9af4",
   "metadata": {},
   "outputs": [],
   "source": [
    "targets = ['power', 'age', 'tetta', 'phi_sin', 'x', 'y']\n",
    "ys = []\n",
    "\n",
    "for y in targets:\n",
    "    ys.append(data[y])\n",
    "\n",
    "X = data.drop(columns=targets)"
   ]
  },
  {
   "cell_type": "code",
   "execution_count": 181,
   "id": "140e4be1",
   "metadata": {},
   "outputs": [],
   "source": [
    "splits = []\n",
    "\n",
    "for y in ys:\n",
    "    X_train, X_test, y_train, y_test = train_test_split(X, y, test_size=0.2, random_state=1)\n",
    "    splits.append([X_train, X_test, y_train, y_test])"
   ]
  },
  {
   "cell_type": "code",
   "execution_count": 182,
   "id": "1c6a1962",
   "metadata": {},
   "outputs": [],
   "source": [
    "model = catboost.CatBoostRegressor(\n",
    "    iterations=20_000,\n",
    "    learning_rate=0.05,\n",
    "    early_stopping_rounds=1000,\n",
    "    depth=3,\n",
    "    task_type=\"GPU\",\n",
    "    verbose=5_000)"
   ]
  },
  {
   "cell_type": "code",
   "execution_count": 184,
   "id": "6a531ee9",
   "metadata": {},
   "outputs": [
    {
     "name": "stdout",
     "output_type": "stream",
     "text": [
      "power\n",
      "0:\tlearn: 0.5837168\ttotal: 1.96ms\tremaining: 39.2s\n",
      "5000:\tlearn: 0.0389605\ttotal: 7.43s\tremaining: 22.3s\n",
      "10000:\tlearn: 0.0368213\ttotal: 14.7s\tremaining: 14.7s\n",
      "15000:\tlearn: 0.0352534\ttotal: 21.8s\tremaining: 7.28s\n",
      "19999:\tlearn: 0.0339486\ttotal: 28.8s\tremaining: 0us\n",
      "0.029240732728018578\n",
      "0.9949173184182991\n",
      "\n",
      "age\n",
      "0:\tlearn: 0.0633554\ttotal: 1.62ms\tremaining: 32.4s\n",
      "5000:\tlearn: 0.0259219\ttotal: 7.29s\tremaining: 21.9s\n",
      "10000:\tlearn: 0.0239153\ttotal: 14.5s\tremaining: 14.5s\n",
      "15000:\tlearn: 0.0227824\ttotal: 21.6s\tremaining: 7.2s\n",
      "19999:\tlearn: 0.0218908\ttotal: 28.7s\tremaining: 0us\n",
      "0.01990800853824355\n",
      "0.8310824078709992\n",
      "\n",
      "tetta\n",
      "0:\tlearn: 11.5927763\ttotal: 1.66ms\tremaining: 33.2s\n",
      "5000:\tlearn: 5.7673933\ttotal: 7.62s\tremaining: 22.9s\n",
      "10000:\tlearn: 5.3907612\ttotal: 15.7s\tremaining: 15.7s\n",
      "15000:\tlearn: 5.1242926\ttotal: 23.6s\tremaining: 7.86s\n",
      "19999:\tlearn: 4.9073093\ttotal: 31.3s\tremaining: 0us\n",
      "4.45401145108177\n",
      "0.7459592531829253\n",
      "\n",
      "phi_sin\n",
      "0:\tlearn: 0.7060958\ttotal: 2.1ms\tremaining: 42.1s\n",
      "5000:\tlearn: 0.5942747\ttotal: 8.12s\tremaining: 24.4s\n",
      "10000:\tlearn: 0.5641910\ttotal: 16.2s\tremaining: 16.1s\n",
      "15000:\tlearn: 0.5414427\ttotal: 24.5s\tremaining: 8.15s\n",
      "19999:\tlearn: 0.5221447\ttotal: 32.5s\tremaining: 0us\n",
      "0.5258692443485505\n",
      "0.2340761569031381\n",
      "\n",
      "x\n",
      "0:\tlearn: 22.5928573\ttotal: 1.66ms\tremaining: 33.1s\n",
      "5000:\tlearn: 8.1402330\ttotal: 8.18s\tremaining: 24.5s\n",
      "10000:\tlearn: 7.4854413\ttotal: 16.4s\tremaining: 16.4s\n",
      "15000:\tlearn: 7.0284464\ttotal: 24.6s\tremaining: 8.21s\n",
      "19999:\tlearn: 6.6580980\ttotal: 32.2s\tremaining: 0us\n",
      "5.908716830808227\n",
      "0.8551653350081008\n",
      "\n",
      "y\n",
      "0:\tlearn: 38.1400734\ttotal: 1.66ms\tremaining: 33.1s\n",
      "5000:\tlearn: 10.1426756\ttotal: 7.99s\tremaining: 24s\n",
      "10000:\tlearn: 9.2519417\ttotal: 15.9s\tremaining: 15.9s\n",
      "15000:\tlearn: 8.6253804\ttotal: 24.1s\tremaining: 8.02s\n",
      "19999:\tlearn: 8.1269532\ttotal: 31.7s\tremaining: 0us\n",
      "7.248696947745512\n",
      "0.9139123038302901\n",
      "\n"
     ]
    }
   ],
   "source": [
    "for i in range(len(targets)):\n",
    "    print(targets[i])\n",
    "    model.fit(splits[i][0], splits[i][2])\n",
    "    print(mean_absolute_error(model.predict(splits[i][1]), splits[i][3]))\n",
    "    print(r2_score(splits[i][3], model.predict(splits[i][1])))\n",
    "    print()"
   ]
  },
  {
   "cell_type": "markdown",
   "id": "c16c0c39",
   "metadata": {},
   "source": [
    "___\n",
    "\n",
    "# Определение X,Y по средневзвешенному"
   ]
  },
  {
   "cell_type": "code",
   "execution_count": 29,
   "id": "0225945d",
   "metadata": {},
   "outputs": [],
   "source": [
    "cluster_centers = np.array([\n",
    "    [-30.0, 0.0],\n",
    "    [-30.0, 30.0],\n",
    "    [0.0, 0.0],\n",
    "    [30, 5],\n",
    "    [30, 38],\n",
    "    [3, -65],\n",
    "    [-15, 50],\n",
    "    [35, -25],\n",
    "    [-30, -30]])"
   ]
  },
  {
   "cell_type": "code",
   "execution_count": 30,
   "id": "a50f94df",
   "metadata": {},
   "outputs": [],
   "source": [
    "def sum_energy_by_cluster(energy_tuple):\n",
    "    energies = np.array(energy_tuple)\n",
    "    cluster_energies = energies.reshape(9, 4)\n",
    "    cluster_sums = np.sum(cluster_energies, axis=1)\n",
    "    \n",
    "    return cluster_sums"
   ]
  },
  {
   "cell_type": "code",
   "execution_count": 37,
   "id": "e9a91c7d",
   "metadata": {},
   "outputs": [
    {
     "name": "stderr",
     "output_type": "stream",
     "text": [
      "C:\\Users\\Artem Fedulov\\AppData\\Local\\Temp\\ipykernel_14700\\226968702.py:10: RuntimeWarning: invalid value encountered in scalar divide\n",
      "  result_x = weighted_sum_x / total_weight\n",
      "C:\\Users\\Artem Fedulov\\AppData\\Local\\Temp\\ipykernel_14700\\226968702.py:11: RuntimeWarning: invalid value encountered in scalar divide\n",
      "  result_y = weighted_sum_y / total_weight\n"
     ]
    }
   ],
   "source": [
    "weights = [sum_energy_by_cluster(x) for x in energy]\n",
    "res_x = []\n",
    "res_y = []\n",
    "\n",
    "for idx in range(len(weights)):\n",
    "    weighted_sum_x = np.sum(cluster_centers[:, 0] * weights[idx])\n",
    "    weighted_sum_y = np.sum(cluster_centers[:, 1] * weights[idx])\n",
    "    total_weight = np.sum(weights[idx])\n",
    "\n",
    "    result_x = weighted_sum_x / total_weight\n",
    "    result_y = weighted_sum_y / total_weight\n",
    "\n",
    "    res_x.append(result_x)\n",
    "    res_y.append(result_y)\n"
   ]
  },
  {
   "cell_type": "code",
   "execution_count": null,
   "id": "ff5c82fc",
   "metadata": {},
   "outputs": [
    {
     "name": "stdout",
     "output_type": "stream",
     "text": [
      "MAE X: 9.92, MAE Y: 15.88\n"
     ]
    }
   ],
   "source": [
    "valid_mask = ~np.isnan(res_x) & ~np.isnan(res_y)\n",
    "\n",
    "mae_x = mean_absolute_error(\n",
    "    np.array(data['x'])[valid_mask], \n",
    "    np.array(res_x)[valid_mask]\n",
    ")\n",
    "mae_y = mean_absolute_error(\n",
    "    np.array(data['y'])[valid_mask],\n",
    "    np.array(res_y)[valid_mask]\n",
    ")\n",
    "\n",
    "print(f\"MAE X: {mae_x:.2f}, MAE Y: {mae_y:.2f}\")"
   ]
  },
  {
   "cell_type": "markdown",
   "id": "62f4780f",
   "metadata": {},
   "source": [
    "___\n",
    "\n",
    "# Сохранение обученных моделей"
   ]
  },
  {
   "cell_type": "code",
   "execution_count": 187,
   "id": "738ccbd2",
   "metadata": {},
   "outputs": [
    {
     "name": "stdout",
     "output_type": "stream",
     "text": [
      "0:\tlearn: 0.5835065\ttotal: 1.58ms\tremaining: 31.7s\n",
      "5000:\tlearn: 0.0394028\ttotal: 7.53s\tremaining: 22.6s\n",
      "10000:\tlearn: 0.0375271\ttotal: 14.8s\tremaining: 14.8s\n",
      "15000:\tlearn: 0.0361659\ttotal: 22.2s\tremaining: 7.41s\n",
      "19999:\tlearn: 0.0350430\ttotal: 29.2s\tremaining: 0us\n",
      "0:\tlearn: 0.0633207\ttotal: 2.72ms\tremaining: 54.3s\n",
      "5000:\tlearn: 0.0260607\ttotal: 7.08s\tremaining: 21.2s\n",
      "10000:\tlearn: 0.0242205\ttotal: 14.2s\tremaining: 14.2s\n",
      "15000:\tlearn: 0.0232303\ttotal: 21.4s\tremaining: 7.13s\n",
      "19999:\tlearn: 0.0224629\ttotal: 28.3s\tremaining: 0us\n",
      "0:\tlearn: 11.5769867\ttotal: 3.15ms\tremaining: 1m 2s\n",
      "5000:\tlearn: 5.8174419\ttotal: 7.13s\tremaining: 21.4s\n",
      "10000:\tlearn: 5.4805725\ttotal: 14.3s\tremaining: 14.3s\n",
      "15000:\tlearn: 5.2456634\ttotal: 21.4s\tremaining: 7.14s\n",
      "19999:\tlearn: 5.0559087\ttotal: 28.2s\tremaining: 0us\n",
      "0:\tlearn: 0.7064281\ttotal: 1.68ms\tremaining: 33.6s\n",
      "5000:\tlearn: 0.5995473\ttotal: 7.16s\tremaining: 21.5s\n",
      "10000:\tlearn: 0.5733538\ttotal: 15.2s\tremaining: 15.2s\n",
      "15000:\tlearn: 0.5537263\ttotal: 22.9s\tremaining: 7.63s\n",
      "19999:\tlearn: 0.5371385\ttotal: 30.4s\tremaining: 0us\n",
      "0:\tlearn: 22.6087541\ttotal: 1.63ms\tremaining: 32.7s\n",
      "5000:\tlearn: 8.2424159\ttotal: 7.1s\tremaining: 21.3s\n",
      "10000:\tlearn: 7.6487195\ttotal: 14.4s\tremaining: 14.3s\n",
      "15000:\tlearn: 7.2333305\ttotal: 21.6s\tremaining: 7.18s\n",
      "19999:\tlearn: 6.9075003\ttotal: 28.5s\tremaining: 0us\n",
      "0:\tlearn: 38.1233787\ttotal: 1.61ms\tremaining: 32.3s\n",
      "5000:\tlearn: 10.3588088\ttotal: 7.08s\tremaining: 21.2s\n",
      "10000:\tlearn: 9.5390948\ttotal: 14.3s\tremaining: 14.3s\n",
      "15000:\tlearn: 8.9783768\ttotal: 21.5s\tremaining: 7.16s\n",
      "19999:\tlearn: 8.5286171\ttotal: 29.1s\tremaining: 0us\n"
     ]
    }
   ],
   "source": [
    "import pickle\n",
    "\n",
    "for y in ys:\n",
    "    model.fit(X, y)\n",
    "    model_pkl_file = f\"model/{y.name}.pkl\"\n",
    "    with open(model_pkl_file, 'wb') as file: pickle.dump(model, file) "
   ]
  },
  {
   "cell_type": "code",
   "execution_count": null,
   "id": "f68b8855",
   "metadata": {},
   "outputs": [],
   "source": []
  }
 ],
 "metadata": {
  "kernelspec": {
   "display_name": "e-coli",
   "language": "python",
   "name": "python3"
  },
  "language_info": {
   "codemirror_mode": {
    "name": "ipython",
    "version": 3
   },
   "file_extension": ".py",
   "mimetype": "text/x-python",
   "name": "python",
   "nbconvert_exporter": "python",
   "pygments_lexer": "ipython3",
   "version": "3.10.6"
  }
 },
 "nbformat": 4,
 "nbformat_minor": 5
}
